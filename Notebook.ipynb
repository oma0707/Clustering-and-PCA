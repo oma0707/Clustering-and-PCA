{
 "cells": [
  {
   "attachments": {},
   "cell_type": "markdown",
   "metadata": {},
   "source": [
    "### Importing Packages"
   ]
  },
  {
   "cell_type": "code",
   "execution_count": 1,
   "metadata": {},
   "outputs": [],
   "source": [
    "# Common imports\n",
    "\n",
    "import numpy as np\n",
    "import pandas as pd\n",
    "import matplotlib as mpl\n",
    "\n",
    "\n",
    "\n",
    "\n",
    "# To make the notebook's output stable across runs\n",
    "\n",
    "np.random.seed(42)\n",
    "\n",
    "\n",
    "\n",
    "# Plotting figures\n",
    "\n",
    "%matplotlib inline\n",
    "import matplotlib.pyplot as plt\n",
    "mpl.rc('axes', labelsize=14)\n",
    "mpl.rc('xtick', labelsize=12)\n",
    "mpl.rc('ytick', labelsize=12)\n",
    "\n",
    "\n",
    "# Ignore useless warnings\n",
    "\n",
    "import warnings\n",
    "warnings.filterwarnings(action=\"ignore\", message=\"^internal gelsd\")"
   ]
  },
  {
   "cell_type": "code",
   "execution_count": 2,
   "metadata": {},
   "outputs": [],
   "source": [
    "# Importing Logistic Regression model\n",
    "\n",
    "from sklearn.linear_model import LogisticRegression"
   ]
  },
  {
   "attachments": {},
   "cell_type": "markdown",
   "metadata": {},
   "source": [
    "### Loading the datasets"
   ]
  },
  {
   "cell_type": "code",
   "execution_count": 3,
   "metadata": {},
   "outputs": [],
   "source": [
    "from tensorflow.keras.datasets import fashion_mnist"
   ]
  },
  {
   "cell_type": "code",
   "execution_count": 4,
   "metadata": {},
   "outputs": [],
   "source": [
    "(X_train_1, y_train_1), (X_test_1, y_test_1) = fashion_mnist.load_data()"
   ]
  },
  {
   "cell_type": "code",
   "execution_count": 5,
   "metadata": {},
   "outputs": [],
   "source": [
    "X_train_1 = X_train_1.reshape(60000, 784)\n",
    "X_test_1 = X_test_1.reshape(10000, 784)"
   ]
  },
  {
   "attachments": {},
   "cell_type": "markdown",
   "metadata": {},
   "source": [
    "Checking for unknown inputs in training and testing datasets"
   ]
  },
  {
   "cell_type": "code",
   "execution_count": 6,
   "metadata": {},
   "outputs": [
    {
     "name": "stdout",
     "output_type": "stream",
     "text": [
      "Is any value in training data unknown = False\n",
      "Is any value in testing data unknown = False\n"
     ]
    }
   ],
   "source": [
    "c = 'False'\n",
    "a = pd.DataFrame(X_train_1)\n",
    "for i in range(0, 784):\n",
    "    if a.iloc[:, i].isnull().values.any() == True:\n",
    "        c = True\n",
    "        break\n",
    "print(\"Is any value in training data unknown =\", c)\n",
    "\n",
    "c = 'False'\n",
    "b = pd.DataFrame(X_test_1)\n",
    "for i in range(0, 784):\n",
    "    if b.iloc[:, i].isnull().values.any() == True:\n",
    "        c = True\n",
    "        break\n",
    "print(\"Is any value in testing data unknown =\", c)"
   ]
  },
  {
   "attachments": {},
   "cell_type": "markdown",
   "metadata": {},
   "source": [
    "There is no unknown value in our datasets. So we can move to further preprocessing."
   ]
  },
  {
   "attachments": {},
   "cell_type": "markdown",
   "metadata": {},
   "source": [
    "Normalizing the datasets"
   ]
  },
  {
   "cell_type": "code",
   "execution_count": 7,
   "metadata": {},
   "outputs": [],
   "source": [
    "X_train_1 = X_train_1/255\n",
    "X_test_1 = X_test_1/255"
   ]
  },
  {
   "attachments": {},
   "cell_type": "markdown",
   "metadata": {},
   "source": [
    "Splitting the training data further into training and validation set.\n",
    "\n",
    "The splitting is done so that we work with only the given training data beforehand and prevent optimizing our model with respect to the given testing data. This prevents overfitting of model with respect to the testing data."
   ]
  },
  {
   "cell_type": "code",
   "execution_count": 8,
   "metadata": {},
   "outputs": [],
   "source": [
    "from sklearn.model_selection import train_test_split\n",
    "\n",
    "X_train, X_test, y_train, y_test = train_test_split(X_train_1, y_train_1, test_size=0.30, random_state=42)"
   ]
  },
  {
   "attachments": {},
   "cell_type": "markdown",
   "metadata": {},
   "source": [
    "#### Logistic Regression on training dataset"
   ]
  },
  {
   "cell_type": "code",
   "execution_count": 9,
   "metadata": {},
   "outputs": [
    {
     "name": "stderr",
     "output_type": "stream",
     "text": [
      "c:\\Users\\Om Ambaye\\AppData\\Local\\Programs\\Python\\Python311\\Lib\\site-packages\\sklearn\\linear_model\\_logistic.py:458: ConvergenceWarning: lbfgs failed to converge (status=1):\n",
      "STOP: TOTAL NO. of ITERATIONS REACHED LIMIT.\n",
      "\n",
      "Increase the number of iterations (max_iter) or scale the data as shown in:\n",
      "    https://scikit-learn.org/stable/modules/preprocessing.html\n",
      "Please also refer to the documentation for alternative solver options:\n",
      "    https://scikit-learn.org/stable/modules/linear_model.html#logistic-regression\n",
      "  n_iter_i = _check_optimize_result(\n"
     ]
    },
    {
     "data": {
      "text/plain": [
       "0.8557222222222223"
      ]
     },
     "execution_count": 9,
     "metadata": {},
     "output_type": "execute_result"
    }
   ],
   "source": [
    "log_reg = LogisticRegression(multi_class=\"ovr\", solver=\"lbfgs\", max_iter=50, random_state=42)\n",
    "log_reg.fit(X_train, y_train)\n",
    "log_reg.score(X_test, y_test)"
   ]
  },
  {
   "cell_type": "code",
   "execution_count": 10,
   "metadata": {},
   "outputs": [
    {
     "name": "stdout",
     "output_type": "stream",
     "text": [
      "Number of iterations = 50\n"
     ]
    }
   ],
   "source": [
    "print('Number of iterations =', log_reg.n_iter_[0])"
   ]
  },
  {
   "cell_type": "code",
   "execution_count": 11,
   "metadata": {},
   "outputs": [
    {
     "name": "stderr",
     "output_type": "stream",
     "text": [
      "c:\\Users\\Om Ambaye\\AppData\\Local\\Programs\\Python\\Python311\\Lib\\site-packages\\sklearn\\linear_model\\_logistic.py:458: ConvergenceWarning: lbfgs failed to converge (status=1):\n",
      "STOP: TOTAL NO. of ITERATIONS REACHED LIMIT.\n",
      "\n",
      "Increase the number of iterations (max_iter) or scale the data as shown in:\n",
      "    https://scikit-learn.org/stable/modules/preprocessing.html\n",
      "Please also refer to the documentation for alternative solver options:\n",
      "    https://scikit-learn.org/stable/modules/linear_model.html#logistic-regression\n",
      "  n_iter_i = _check_optimize_result(\n"
     ]
    },
    {
     "data": {
      "text/plain": [
       "0.8525555555555555"
      ]
     },
     "execution_count": 11,
     "metadata": {},
     "output_type": "execute_result"
    }
   ],
   "source": [
    "log_reg = LogisticRegression(multi_class=\"ovr\", solver=\"lbfgs\", max_iter=500, random_state=42)\n",
    "log_reg.fit(X_train, y_train)\n",
    "log_reg.score(X_test, y_test)"
   ]
  },
  {
   "cell_type": "code",
   "execution_count": 12,
   "metadata": {},
   "outputs": [
    {
     "name": "stdout",
     "output_type": "stream",
     "text": [
      "Number of iterations = 479\n"
     ]
    }
   ],
   "source": [
    "print('Number of iterations =', log_reg.n_iter_[0])"
   ]
  },
  {
   "attachments": {},
   "cell_type": "markdown",
   "metadata": {},
   "source": [
    "The logistic regression does not converge, even at higher maximum iterations. But as we increase max_iter, the score didn't deviated much from 84% to 85%. Hence a smaller magnitude of maximum iterations will suffice."
   ]
  },
  {
   "attachments": {},
   "cell_type": "markdown",
   "metadata": {},
   "source": [
    "### Clustering"
   ]
  },
  {
   "cell_type": "code",
   "execution_count": 13,
   "metadata": {},
   "outputs": [],
   "source": [
    "# Number of clusters = k\n",
    "\n",
    "k = 450"
   ]
  },
  {
   "cell_type": "code",
   "execution_count": 14,
   "metadata": {},
   "outputs": [],
   "source": [
    "from sklearn.cluster import KMeans"
   ]
  },
  {
   "cell_type": "code",
   "execution_count": 15,
   "metadata": {},
   "outputs": [],
   "source": [
    "kmeans = KMeans(n_clusters=k, init='k-means++', n_init=1,\n",
    "                max_iter=100, random_state=42, )\n",
    "kmeans.fit(X_train)\n",
    "X_digits_dist = kmeans.transform(X_train)\n",
    "representative_digit_idx = np.argmin(X_digits_dist, axis = 0)\n",
    "X_representative_digits = X_train[representative_digit_idx, :]\n",
    "X_representative_digits_np = X_representative_digits"
   ]
  },
  {
   "cell_type": "code",
   "execution_count": 16,
   "metadata": {},
   "outputs": [
    {
     "name": "stdout",
     "output_type": "stream",
     "text": [
      "Inertia = 682444.3507616427\n",
      "Number of iterations = 56\n"
     ]
    }
   ],
   "source": [
    "print('Inertia =', kmeans.inertia_)\n",
    "print('Number of iterations =', kmeans.n_iter_)"
   ]
  },
  {
   "cell_type": "code",
   "execution_count": 17,
   "metadata": {},
   "outputs": [],
   "source": [
    "# This is the step where manual labelling on representative elements occurs.\n",
    "# The amount of data to be manually labelled is the number of clusters used for clustering.\n",
    "# Since we already had all elements labelled, we are directly using the labels for these representative elements from the dataset.\n",
    "\n",
    "y_representative_digits = y_train[representative_digit_idx]"
   ]
  },
  {
   "cell_type": "code",
   "execution_count": 18,
   "metadata": {},
   "outputs": [
    {
     "data": {
      "text/plain": [
       "0.7928333333333333"
      ]
     },
     "execution_count": 18,
     "metadata": {},
     "output_type": "execute_result"
    }
   ],
   "source": [
    "clf_reg_2 = LogisticRegression(multi_class=\"ovr\", solver=\"lbfgs\", max_iter=300, random_state=42)\n",
    "clf_reg_2.fit(X_representative_digits, y_representative_digits)\n",
    "clf_reg_2.score(X_test, y_test)"
   ]
  },
  {
   "attachments": {},
   "cell_type": "markdown",
   "metadata": {},
   "source": [
    "Propagating the labells to entire dataset"
   ]
  },
  {
   "cell_type": "code",
   "execution_count": 19,
   "metadata": {},
   "outputs": [],
   "source": [
    "y_train_propagated = np.empty(len(X_train), dtype=np.int32)\n",
    "for i in range(k):\n",
    "    y_train_propagated[kmeans.labels_==i] = y_representative_digits[i]"
   ]
  },
  {
   "cell_type": "code",
   "execution_count": 20,
   "metadata": {},
   "outputs": [
    {
     "name": "stderr",
     "output_type": "stream",
     "text": [
      "c:\\Users\\Om Ambaye\\AppData\\Local\\Programs\\Python\\Python311\\Lib\\site-packages\\sklearn\\linear_model\\_logistic.py:458: ConvergenceWarning: lbfgs failed to converge (status=1):\n",
      "STOP: TOTAL NO. of ITERATIONS REACHED LIMIT.\n",
      "\n",
      "Increase the number of iterations (max_iter) or scale the data as shown in:\n",
      "    https://scikit-learn.org/stable/modules/preprocessing.html\n",
      "Please also refer to the documentation for alternative solver options:\n",
      "    https://scikit-learn.org/stable/modules/linear_model.html#logistic-regression\n",
      "  n_iter_i = _check_optimize_result(\n"
     ]
    },
    {
     "data": {
      "text/plain": [
       "0.7808333333333334"
      ]
     },
     "execution_count": 20,
     "metadata": {},
     "output_type": "execute_result"
    }
   ],
   "source": [
    "clf_reg_3 = LogisticRegression(multi_class=\"ovr\", solver=\"lbfgs\", max_iter=300, random_state=1)\n",
    "clf_reg_3.fit(X_train, y_train_propagated)\n",
    "clf_reg_3.score(X_test, y_test)"
   ]
  },
  {
   "cell_type": "code",
   "execution_count": 21,
   "metadata": {},
   "outputs": [
    {
     "name": "stdout",
     "output_type": "stream",
     "text": [
      "Number of iterations = 300\n"
     ]
    }
   ],
   "source": [
    "print('Number of iterations =', clf_reg_3.n_iter_[0])"
   ]
  },
  {
   "attachments": {},
   "cell_type": "markdown",
   "metadata": {},
   "source": [
    "Propagating the labells to closest 1% of each cluster from their respective centroids."
   ]
  },
  {
   "cell_type": "code",
   "execution_count": 22,
   "metadata": {},
   "outputs": [],
   "source": [
    "percentile_closest = 1\n",
    "\n",
    "X_cluster_dist = X_digits_dist[np.arange(len(X_train)), kmeans.labels_]\n",
    "for i in range(k):\n",
    "    in_cluster = (kmeans.labels_ == i)\n",
    "    cluster_dist = X_cluster_dist[in_cluster]\n",
    "    cutoff_distance = np.percentile(cluster_dist, percentile_closest)\n",
    "    above_cutoff = (X_cluster_dist > cutoff_distance)\n",
    "    X_cluster_dist[in_cluster & above_cutoff] = -1\n",
    "\n",
    "partially_propagated = (X_cluster_dist != -1)\n",
    "X_train_partially_propagated = X_train[partially_propagated]\n",
    "y_train_partially_propagated = y_train_propagated[partially_propagated]"
   ]
  },
  {
   "attachments": {},
   "cell_type": "markdown",
   "metadata": {},
   "source": [
    "This number below tells the fraction of labelles propagated that have the correct label."
   ]
  },
  {
   "cell_type": "code",
   "execution_count": 23,
   "metadata": {},
   "outputs": [
    {
     "data": {
      "text/plain": [
       "0.9521531100478469"
      ]
     },
     "execution_count": 23,
     "metadata": {},
     "output_type": "execute_result"
    }
   ],
   "source": [
    "np.mean(y_train_partially_propagated == y_train[partially_propagated])"
   ]
  },
  {
   "cell_type": "code",
   "execution_count": 24,
   "metadata": {},
   "outputs": [
    {
     "data": {
      "text/plain": [
       "0.7847777777777778"
      ]
     },
     "execution_count": 24,
     "metadata": {},
     "output_type": "execute_result"
    }
   ],
   "source": [
    "clf_reg_4 = LogisticRegression(multi_class=\"ovr\", solver=\"lbfgs\", max_iter=500, random_state=42)\n",
    "clf_reg_4.fit(X_train_partially_propagated, y_train_partially_propagated)\n",
    "clf_reg_4.score(X_test, y_test)"
   ]
  },
  {
   "attachments": {},
   "cell_type": "markdown",
   "metadata": {},
   "source": [
    "To prevent writing the same program for different number of clusters, we define a function (k_cluster) below that takes in the number of clusters (k) and percentage of propagation (p) and gives all the above outputs."
   ]
  },
  {
   "cell_type": "code",
   "execution_count": 25,
   "metadata": {},
   "outputs": [],
   "source": [
    "def k_cluster_1(k, p):\n",
    "    kmeans = KMeans(n_clusters=k, init='k-means++', n_init=1\n",
    "                    , random_state=42, )\n",
    "    kmeans.fit(X_train)\n",
    "    X_digits_dist = kmeans.transform(X_train)\n",
    "    representative_digit_idx = np.argmin(X_digits_dist, axis = 0)\n",
    "    X_representative_digits = X_train[representative_digit_idx]\n",
    "    X_representative_digits_np = X_representative_digits\n",
    "    \n",
    "    y_representative_digits = y_train[representative_digit_idx]\n",
    "    \n",
    "    log_reg = LogisticRegression(multi_class=\"ovr\", solver=\"lbfgs\", max_iter=50, random_state=42)\n",
    "    log_reg.fit(X_representative_digits, y_representative_digits)\n",
    "    print('Accuracy with', k, 'clusters =', log_reg.score(X_test, y_test))\n",
    "    \n",
    "    y_train_propagated = np.empty(len(X_train), dtype=np.int32)\n",
    "    for i in range(k):\n",
    "        y_train_propagated[kmeans.labels_==i] = y_representative_digits[i]\n",
    "    \n",
    "    log_reg = LogisticRegression(multi_class=\"ovr\", solver=\"lbfgs\", max_iter=50, random_state=1)\n",
    "    log_reg.fit(X_train, y_train_propagated)\n",
    "    print('Accuracy with labells propagated =', log_reg.score(X_test, y_test))\n",
    "    \n",
    "    percentile_closest = p\n",
    "    \n",
    "    X_cluster_dist = X_digits_dist[np.arange(len(X_train)), kmeans.labels_]\n",
    "    for i in range(k):\n",
    "        in_cluster = (kmeans.labels_ == i)\n",
    "        cluster_dist = X_cluster_dist[in_cluster]\n",
    "        cutoff_distance = np.percentile(cluster_dist, percentile_closest)\n",
    "        above_cutoff = (X_cluster_dist > cutoff_distance)\n",
    "        X_cluster_dist[in_cluster & above_cutoff] = -1\n",
    "    \n",
    "    partially_propagated = (X_cluster_dist != -1)\n",
    "    X_train_partially_propagated = X_train[partially_propagated]\n",
    "    y_train_partially_propagated = y_train_propagated[partially_propagated]\n",
    "    \n",
    "    print('Accuracy of percentage labels with actual labels =', np.mean(y_train_partially_propagated == y_train[partially_propagated]))\n",
    "    \n",
    "    log_reg = LogisticRegression(multi_class=\"ovr\", solver=\"lbfgs\", max_iter=50, random_state=42)\n",
    "    log_reg.fit(X_train_partially_propagated, y_train_partially_propagated)\n",
    "    print('Accuracy with labells propagated to nearest', str(p)+'% elements =', log_reg.score(X_test, y_test))"
   ]
  },
  {
   "cell_type": "code",
   "execution_count": 26,
   "metadata": {},
   "outputs": [
    {
     "name": "stderr",
     "output_type": "stream",
     "text": [
      "c:\\Users\\Om Ambaye\\AppData\\Local\\Programs\\Python\\Python311\\Lib\\site-packages\\sklearn\\linear_model\\_logistic.py:458: ConvergenceWarning: lbfgs failed to converge (status=1):\n",
      "STOP: TOTAL NO. of ITERATIONS REACHED LIMIT.\n",
      "\n",
      "Increase the number of iterations (max_iter) or scale the data as shown in:\n",
      "    https://scikit-learn.org/stable/modules/preprocessing.html\n",
      "Please also refer to the documentation for alternative solver options:\n",
      "    https://scikit-learn.org/stable/modules/linear_model.html#logistic-regression\n",
      "  n_iter_i = _check_optimize_result(\n"
     ]
    },
    {
     "name": "stdout",
     "output_type": "stream",
     "text": [
      "Accuracy with 450 clusters = 0.7932222222222223\n"
     ]
    },
    {
     "name": "stderr",
     "output_type": "stream",
     "text": [
      "c:\\Users\\Om Ambaye\\AppData\\Local\\Programs\\Python\\Python311\\Lib\\site-packages\\sklearn\\linear_model\\_logistic.py:458: ConvergenceWarning: lbfgs failed to converge (status=1):\n",
      "STOP: TOTAL NO. of ITERATIONS REACHED LIMIT.\n",
      "\n",
      "Increase the number of iterations (max_iter) or scale the data as shown in:\n",
      "    https://scikit-learn.org/stable/modules/preprocessing.html\n",
      "Please also refer to the documentation for alternative solver options:\n",
      "    https://scikit-learn.org/stable/modules/linear_model.html#logistic-regression\n",
      "  n_iter_i = _check_optimize_result(\n"
     ]
    },
    {
     "name": "stdout",
     "output_type": "stream",
     "text": [
      "Accuracy with labells propagated = 0.7815555555555556\n",
      "Accuracy of percentage labels with actual labels = 0.8441724941724942\n"
     ]
    },
    {
     "name": "stderr",
     "output_type": "stream",
     "text": [
      "c:\\Users\\Om Ambaye\\AppData\\Local\\Programs\\Python\\Python311\\Lib\\site-packages\\sklearn\\linear_model\\_logistic.py:458: ConvergenceWarning: lbfgs failed to converge (status=1):\n",
      "STOP: TOTAL NO. of ITERATIONS REACHED LIMIT.\n",
      "\n",
      "Increase the number of iterations (max_iter) or scale the data as shown in:\n",
      "    https://scikit-learn.org/stable/modules/preprocessing.html\n",
      "Please also refer to the documentation for alternative solver options:\n",
      "    https://scikit-learn.org/stable/modules/linear_model.html#logistic-regression\n",
      "  n_iter_i = _check_optimize_result(\n"
     ]
    },
    {
     "name": "stdout",
     "output_type": "stream",
     "text": [
      "Accuracy with labells propagated to nearest 20% elements = 0.7804444444444445\n"
     ]
    }
   ],
   "source": [
    "k_cluster_1(450, 20)"
   ]
  },
  {
   "attachments": {},
   "cell_type": "markdown",
   "metadata": {},
   "source": [
    "This reduces the effort of changing the number of clusters each time. But still, this method does not gives us the optimal number of clusters to use in building our semi-supervised learning model. Also, we don't know any optimal method to declare what number of clusters should be considered 'ideal'."
   ]
  },
  {
   "attachments": {},
   "cell_type": "markdown",
   "metadata": {},
   "source": [
    "The problem is as follows:$\\\\$\n",
    "\n",
    "\n",
    "If we take very few clusters, we will be having very less information (labelled data) and a large amount of unknown (unlabelled data). Thus if we train our model using clustering on these labels, we would get relatively very less accuracy as we were getting from using the entire training dataset.$\\\\$\n",
    "On the other hand, if we take very large number of clusters (relative to number of elements in training data), then surely our accuracy after clustering should be good (very close to the one on entire training dataset). But then as number of clusters have increased, the number of labelled data have increased. Thus the cost of making this model increases, since then we have to make sure we have a large amount of manually labelled data."
   ]
  },
  {
   "attachments": {},
   "cell_type": "markdown",
   "metadata": {},
   "source": [
    "So we have to take the number of clusters neither too small nor too large, but someway in between, providing the lowest payoff between accuracy and cost of making the model.$\\\\$\n",
    "This looks a hard work to do and we don't know where to even start."
   ]
  },
  {
   "attachments": {},
   "cell_type": "markdown",
   "metadata": {},
   "source": [
    "In such a case, plotting seems to be a promosing approach, since we just have to purturb the number of clusters and find the accuracy on the representative elements. We can plot an 'Accuracy Vs Number_of_clusters' graph from this. This should give us some hint on how to find a suitable number of clusters."
   ]
  },
  {
   "cell_type": "code",
   "execution_count": 27,
   "metadata": {},
   "outputs": [],
   "source": [
    "scores = []"
   ]
  },
  {
   "cell_type": "code",
   "execution_count": 28,
   "metadata": {},
   "outputs": [],
   "source": [
    "def f(x, y, n):\n",
    "    for k in range(x, y+1, n):\n",
    "        kmeans = KMeans(n_clusters=k, init='k-means++', n_init=1\n",
    "                        , random_state=42, )\n",
    "        kmeans.fit(X_train)\n",
    "        X_digits_dist = kmeans.transform(X_train)\n",
    "        representative_digit_idx = np.argmin(X_digits_dist, axis = 0)\n",
    "        X_representative_digits = X_train[representative_digit_idx]\n",
    "        X_representative_digits_np = X_representative_digits\n",
    "        \n",
    "        y_representative_digits = y_train[representative_digit_idx]\n",
    "        \n",
    "        log_reg = LogisticRegression(multi_class=\"ovr\", solver=\"lbfgs\", max_iter=50, random_state=42)\n",
    "        log_reg.fit(X_representative_digits, y_representative_digits)\n",
    "        scores.append(log_reg.score(X_test, y_test))"
   ]
  },
  {
   "cell_type": "code",
   "execution_count": 29,
   "metadata": {},
   "outputs": [
    {
     "name": "stderr",
     "output_type": "stream",
     "text": [
      "c:\\Users\\Om Ambaye\\AppData\\Local\\Programs\\Python\\Python311\\Lib\\site-packages\\sklearn\\linear_model\\_logistic.py:458: ConvergenceWarning: lbfgs failed to converge (status=1):\n",
      "STOP: TOTAL NO. of ITERATIONS REACHED LIMIT.\n",
      "\n",
      "Increase the number of iterations (max_iter) or scale the data as shown in:\n",
      "    https://scikit-learn.org/stable/modules/preprocessing.html\n",
      "Please also refer to the documentation for alternative solver options:\n",
      "    https://scikit-learn.org/stable/modules/linear_model.html#logistic-regression\n",
      "  n_iter_i = _check_optimize_result(\n",
      "c:\\Users\\Om Ambaye\\AppData\\Local\\Programs\\Python\\Python311\\Lib\\site-packages\\sklearn\\linear_model\\_logistic.py:458: ConvergenceWarning: lbfgs failed to converge (status=1):\n",
      "STOP: TOTAL NO. of ITERATIONS REACHED LIMIT.\n",
      "\n",
      "Increase the number of iterations (max_iter) or scale the data as shown in:\n",
      "    https://scikit-learn.org/stable/modules/preprocessing.html\n",
      "Please also refer to the documentation for alternative solver options:\n",
      "    https://scikit-learn.org/stable/modules/linear_model.html#logistic-regression\n",
      "  n_iter_i = _check_optimize_result(\n",
      "c:\\Users\\Om Ambaye\\AppData\\Local\\Programs\\Python\\Python311\\Lib\\site-packages\\sklearn\\linear_model\\_logistic.py:458: ConvergenceWarning: lbfgs failed to converge (status=1):\n",
      "STOP: TOTAL NO. of ITERATIONS REACHED LIMIT.\n",
      "\n",
      "Increase the number of iterations (max_iter) or scale the data as shown in:\n",
      "    https://scikit-learn.org/stable/modules/preprocessing.html\n",
      "Please also refer to the documentation for alternative solver options:\n",
      "    https://scikit-learn.org/stable/modules/linear_model.html#logistic-regression\n",
      "  n_iter_i = _check_optimize_result(\n",
      "c:\\Users\\Om Ambaye\\AppData\\Local\\Programs\\Python\\Python311\\Lib\\site-packages\\sklearn\\linear_model\\_logistic.py:458: ConvergenceWarning: lbfgs failed to converge (status=1):\n",
      "STOP: TOTAL NO. of ITERATIONS REACHED LIMIT.\n",
      "\n",
      "Increase the number of iterations (max_iter) or scale the data as shown in:\n",
      "    https://scikit-learn.org/stable/modules/preprocessing.html\n",
      "Please also refer to the documentation for alternative solver options:\n",
      "    https://scikit-learn.org/stable/modules/linear_model.html#logistic-regression\n",
      "  n_iter_i = _check_optimize_result(\n",
      "c:\\Users\\Om Ambaye\\AppData\\Local\\Programs\\Python\\Python311\\Lib\\site-packages\\sklearn\\linear_model\\_logistic.py:458: ConvergenceWarning: lbfgs failed to converge (status=1):\n",
      "STOP: TOTAL NO. of ITERATIONS REACHED LIMIT.\n",
      "\n",
      "Increase the number of iterations (max_iter) or scale the data as shown in:\n",
      "    https://scikit-learn.org/stable/modules/preprocessing.html\n",
      "Please also refer to the documentation for alternative solver options:\n",
      "    https://scikit-learn.org/stable/modules/linear_model.html#logistic-regression\n",
      "  n_iter_i = _check_optimize_result(\n",
      "c:\\Users\\Om Ambaye\\AppData\\Local\\Programs\\Python\\Python311\\Lib\\site-packages\\sklearn\\linear_model\\_logistic.py:458: ConvergenceWarning: lbfgs failed to converge (status=1):\n",
      "STOP: TOTAL NO. of ITERATIONS REACHED LIMIT.\n",
      "\n",
      "Increase the number of iterations (max_iter) or scale the data as shown in:\n",
      "    https://scikit-learn.org/stable/modules/preprocessing.html\n",
      "Please also refer to the documentation for alternative solver options:\n",
      "    https://scikit-learn.org/stable/modules/linear_model.html#logistic-regression\n",
      "  n_iter_i = _check_optimize_result(\n",
      "c:\\Users\\Om Ambaye\\AppData\\Local\\Programs\\Python\\Python311\\Lib\\site-packages\\sklearn\\linear_model\\_logistic.py:458: ConvergenceWarning: lbfgs failed to converge (status=1):\n",
      "STOP: TOTAL NO. of ITERATIONS REACHED LIMIT.\n",
      "\n",
      "Increase the number of iterations (max_iter) or scale the data as shown in:\n",
      "    https://scikit-learn.org/stable/modules/preprocessing.html\n",
      "Please also refer to the documentation for alternative solver options:\n",
      "    https://scikit-learn.org/stable/modules/linear_model.html#logistic-regression\n",
      "  n_iter_i = _check_optimize_result(\n",
      "c:\\Users\\Om Ambaye\\AppData\\Local\\Programs\\Python\\Python311\\Lib\\site-packages\\sklearn\\linear_model\\_logistic.py:458: ConvergenceWarning: lbfgs failed to converge (status=1):\n",
      "STOP: TOTAL NO. of ITERATIONS REACHED LIMIT.\n",
      "\n",
      "Increase the number of iterations (max_iter) or scale the data as shown in:\n",
      "    https://scikit-learn.org/stable/modules/preprocessing.html\n",
      "Please also refer to the documentation for alternative solver options:\n",
      "    https://scikit-learn.org/stable/modules/linear_model.html#logistic-regression\n",
      "  n_iter_i = _check_optimize_result(\n",
      "c:\\Users\\Om Ambaye\\AppData\\Local\\Programs\\Python\\Python311\\Lib\\site-packages\\sklearn\\linear_model\\_logistic.py:458: ConvergenceWarning: lbfgs failed to converge (status=1):\n",
      "STOP: TOTAL NO. of ITERATIONS REACHED LIMIT.\n",
      "\n",
      "Increase the number of iterations (max_iter) or scale the data as shown in:\n",
      "    https://scikit-learn.org/stable/modules/preprocessing.html\n",
      "Please also refer to the documentation for alternative solver options:\n",
      "    https://scikit-learn.org/stable/modules/linear_model.html#logistic-regression\n",
      "  n_iter_i = _check_optimize_result(\n",
      "c:\\Users\\Om Ambaye\\AppData\\Local\\Programs\\Python\\Python311\\Lib\\site-packages\\sklearn\\linear_model\\_logistic.py:458: ConvergenceWarning: lbfgs failed to converge (status=1):\n",
      "STOP: TOTAL NO. of ITERATIONS REACHED LIMIT.\n",
      "\n",
      "Increase the number of iterations (max_iter) or scale the data as shown in:\n",
      "    https://scikit-learn.org/stable/modules/preprocessing.html\n",
      "Please also refer to the documentation for alternative solver options:\n",
      "    https://scikit-learn.org/stable/modules/linear_model.html#logistic-regression\n",
      "  n_iter_i = _check_optimize_result(\n",
      "c:\\Users\\Om Ambaye\\AppData\\Local\\Programs\\Python\\Python311\\Lib\\site-packages\\sklearn\\linear_model\\_logistic.py:458: ConvergenceWarning: lbfgs failed to converge (status=1):\n",
      "STOP: TOTAL NO. of ITERATIONS REACHED LIMIT.\n",
      "\n",
      "Increase the number of iterations (max_iter) or scale the data as shown in:\n",
      "    https://scikit-learn.org/stable/modules/preprocessing.html\n",
      "Please also refer to the documentation for alternative solver options:\n",
      "    https://scikit-learn.org/stable/modules/linear_model.html#logistic-regression\n",
      "  n_iter_i = _check_optimize_result(\n",
      "c:\\Users\\Om Ambaye\\AppData\\Local\\Programs\\Python\\Python311\\Lib\\site-packages\\sklearn\\linear_model\\_logistic.py:458: ConvergenceWarning: lbfgs failed to converge (status=1):\n",
      "STOP: TOTAL NO. of ITERATIONS REACHED LIMIT.\n",
      "\n",
      "Increase the number of iterations (max_iter) or scale the data as shown in:\n",
      "    https://scikit-learn.org/stable/modules/preprocessing.html\n",
      "Please also refer to the documentation for alternative solver options:\n",
      "    https://scikit-learn.org/stable/modules/linear_model.html#logistic-regression\n",
      "  n_iter_i = _check_optimize_result(\n",
      "c:\\Users\\Om Ambaye\\AppData\\Local\\Programs\\Python\\Python311\\Lib\\site-packages\\sklearn\\linear_model\\_logistic.py:458: ConvergenceWarning: lbfgs failed to converge (status=1):\n",
      "STOP: TOTAL NO. of ITERATIONS REACHED LIMIT.\n",
      "\n",
      "Increase the number of iterations (max_iter) or scale the data as shown in:\n",
      "    https://scikit-learn.org/stable/modules/preprocessing.html\n",
      "Please also refer to the documentation for alternative solver options:\n",
      "    https://scikit-learn.org/stable/modules/linear_model.html#logistic-regression\n",
      "  n_iter_i = _check_optimize_result(\n",
      "c:\\Users\\Om Ambaye\\AppData\\Local\\Programs\\Python\\Python311\\Lib\\site-packages\\sklearn\\linear_model\\_logistic.py:458: ConvergenceWarning: lbfgs failed to converge (status=1):\n",
      "STOP: TOTAL NO. of ITERATIONS REACHED LIMIT.\n",
      "\n",
      "Increase the number of iterations (max_iter) or scale the data as shown in:\n",
      "    https://scikit-learn.org/stable/modules/preprocessing.html\n",
      "Please also refer to the documentation for alternative solver options:\n",
      "    https://scikit-learn.org/stable/modules/linear_model.html#logistic-regression\n",
      "  n_iter_i = _check_optimize_result(\n",
      "c:\\Users\\Om Ambaye\\AppData\\Local\\Programs\\Python\\Python311\\Lib\\site-packages\\sklearn\\linear_model\\_logistic.py:458: ConvergenceWarning: lbfgs failed to converge (status=1):\n",
      "STOP: TOTAL NO. of ITERATIONS REACHED LIMIT.\n",
      "\n",
      "Increase the number of iterations (max_iter) or scale the data as shown in:\n",
      "    https://scikit-learn.org/stable/modules/preprocessing.html\n",
      "Please also refer to the documentation for alternative solver options:\n",
      "    https://scikit-learn.org/stable/modules/linear_model.html#logistic-regression\n",
      "  n_iter_i = _check_optimize_result(\n",
      "c:\\Users\\Om Ambaye\\AppData\\Local\\Programs\\Python\\Python311\\Lib\\site-packages\\sklearn\\linear_model\\_logistic.py:458: ConvergenceWarning: lbfgs failed to converge (status=1):\n",
      "STOP: TOTAL NO. of ITERATIONS REACHED LIMIT.\n",
      "\n",
      "Increase the number of iterations (max_iter) or scale the data as shown in:\n",
      "    https://scikit-learn.org/stable/modules/preprocessing.html\n",
      "Please also refer to the documentation for alternative solver options:\n",
      "    https://scikit-learn.org/stable/modules/linear_model.html#logistic-regression\n",
      "  n_iter_i = _check_optimize_result(\n",
      "c:\\Users\\Om Ambaye\\AppData\\Local\\Programs\\Python\\Python311\\Lib\\site-packages\\sklearn\\linear_model\\_logistic.py:458: ConvergenceWarning: lbfgs failed to converge (status=1):\n",
      "STOP: TOTAL NO. of ITERATIONS REACHED LIMIT.\n",
      "\n",
      "Increase the number of iterations (max_iter) or scale the data as shown in:\n",
      "    https://scikit-learn.org/stable/modules/preprocessing.html\n",
      "Please also refer to the documentation for alternative solver options:\n",
      "    https://scikit-learn.org/stable/modules/linear_model.html#logistic-regression\n",
      "  n_iter_i = _check_optimize_result(\n",
      "c:\\Users\\Om Ambaye\\AppData\\Local\\Programs\\Python\\Python311\\Lib\\site-packages\\sklearn\\linear_model\\_logistic.py:458: ConvergenceWarning: lbfgs failed to converge (status=1):\n",
      "STOP: TOTAL NO. of ITERATIONS REACHED LIMIT.\n",
      "\n",
      "Increase the number of iterations (max_iter) or scale the data as shown in:\n",
      "    https://scikit-learn.org/stable/modules/preprocessing.html\n",
      "Please also refer to the documentation for alternative solver options:\n",
      "    https://scikit-learn.org/stable/modules/linear_model.html#logistic-regression\n",
      "  n_iter_i = _check_optimize_result(\n",
      "c:\\Users\\Om Ambaye\\AppData\\Local\\Programs\\Python\\Python311\\Lib\\site-packages\\sklearn\\linear_model\\_logistic.py:458: ConvergenceWarning: lbfgs failed to converge (status=1):\n",
      "STOP: TOTAL NO. of ITERATIONS REACHED LIMIT.\n",
      "\n",
      "Increase the number of iterations (max_iter) or scale the data as shown in:\n",
      "    https://scikit-learn.org/stable/modules/preprocessing.html\n",
      "Please also refer to the documentation for alternative solver options:\n",
      "    https://scikit-learn.org/stable/modules/linear_model.html#logistic-regression\n",
      "  n_iter_i = _check_optimize_result(\n"
     ]
    }
   ],
   "source": [
    "# Finding the accuracy for each cluster between 50 to 1000, with consecutive difference of 50 clusters.\n",
    "# This will take some time to run. But once compiled, we can use this data immediately to plot our graph.\n",
    "\n",
    "f(50, 1000, 50)"
   ]
  },
  {
   "cell_type": "code",
   "execution_count": 30,
   "metadata": {},
   "outputs": [
    {
     "name": "stdout",
     "output_type": "stream",
     "text": [
      "50 -> 0.6699444444444445\n",
      "100 -> 0.7016666666666667\n",
      "150 -> 0.7375555555555555\n",
      "200 -> 0.7605555555555555\n",
      "250 -> 0.7755\n",
      "300 -> 0.7714444444444445\n",
      "350 -> 0.775\n",
      "400 -> 0.7807777777777778\n",
      "450 -> 0.7932222222222223\n",
      "500 -> 0.8008333333333333\n",
      "550 -> 0.8014444444444444\n",
      "600 -> 0.8026111111111112\n",
      "650 -> 0.8023333333333333\n",
      "700 -> 0.7972777777777778\n",
      "750 -> 0.7993333333333333\n",
      "800 -> 0.7981666666666667\n",
      "850 -> 0.7973888888888889\n",
      "900 -> 0.8032777777777778\n",
      "950 -> 0.8078333333333333\n",
      "1000 -> 0.804\n"
     ]
    }
   ],
   "source": [
    "for i in range(len(scores)):\n",
    "    print((i+1)*50 , \"->\", scores[i])"
   ]
  },
  {
   "cell_type": "code",
   "execution_count": 31,
   "metadata": {},
   "outputs": [
    {
     "data": {
      "text/plain": [
       "array([ 950, 1000,  900,  600,  650,  550,  500,  750,  800,  850,  700,\n",
       "        450,  400,  250,  350,  300,  200,  150,  100,   50], dtype=int64)"
      ]
     },
     "execution_count": 31,
     "metadata": {},
     "output_type": "execute_result"
    }
   ],
   "source": [
    "# Arranging the number of clusters in decreasing order of their accuracy.\n",
    "\n",
    "50 + (np.argsort(scores)[::-1])*50"
   ]
  },
  {
   "cell_type": "code",
   "execution_count": 32,
   "metadata": {},
   "outputs": [
    {
     "data": {
      "image/png": "[encoded data removed]",
      "text/plain": [
       "<Figure size 800x350 with 1 Axes>"
      ]
     },
     "metadata": {},
     "output_type": "display_data"
    }
   ],
   "source": [
    "# Now time to plot our graph.\n",
    "\n",
    "plt.figure(figsize=(8, 3.5))\n",
    "plt.plot([n for n in range(50, 1001, 50)], scores, 'bo-')\n",
    "plt.xlabel(\"$k$\", fontsize=14)\n",
    "plt.ylabel(\"Accuracy\", fontsize=14)\n",
    "\n",
    "plt.axis([0, 1050, np.min(scores) - 0.01, np.max(scores) + 0.01])\n",
    "plt.plot(250, scores[4], 'r*')\n",
    "plt.plot(500, scores[9], 'r*')\n",
    "\n",
    "plt.show()"
   ]
  },
  {
   "attachments": {},
   "cell_type": "markdown",
   "metadata": {},
   "source": [
    "From the above graph, it is not exactly clear which value of k to choose. We can choose k = 250 and justify that since after 250 clusters, there is a slight dip in accuracy, so increasing number of clusters beyond 250 will not be very feasible.$\\\\$\n",
    "One could also use k = 500 with the same reasoning. In this case, the initial increase in accuracy with respect to number of cluster is increasing, although with a lower rate, but not at a rate which can be neglected (not an infeasible rate)."
   ]
  },
  {
   "attachments": {},
   "cell_type": "markdown",
   "metadata": {},
   "source": [
    "# Applying PCA before clustering"
   ]
  },
  {
   "attachments": {},
   "cell_type": "markdown",
   "metadata": {},
   "source": [
    "Now before clustering, we apply a step of dimensionality reduction, called the Principal Component Analysis, or PCA. This will reduce the number of dimensions of our dataset to a smaller dimension. Our dataset have $28 \\times 28 = 784$ dimension. We reduce it to, say 25. Let's then apply two different models on this reduced dataset. One will be our earlier Logistic Regression and other will be Support Vector Machine, or SVM."
   ]
  },
  {
   "cell_type": "code",
   "execution_count": 33,
   "metadata": {},
   "outputs": [],
   "source": [
    "t = 25"
   ]
  },
  {
   "cell_type": "code",
   "execution_count": 34,
   "metadata": {},
   "outputs": [],
   "source": [
    "from sklearn.decomposition import PCA\n",
    "\n",
    "pca = PCA(n_components=t, random_state=42)\n",
    "pca.fit(X_train)\n",
    "X_train_pca = pca.transform(X_train)\n",
    "X_test_pca = pca.transform(X_test)"
   ]
  },
  {
   "attachments": {},
   "cell_type": "markdown",
   "metadata": {},
   "source": [
    "## Logistic Regression"
   ]
  },
  {
   "attachments": {},
   "cell_type": "markdown",
   "metadata": {},
   "source": [
    "#### Logistic Regression on Entire training dataset"
   ]
  },
  {
   "cell_type": "code",
   "execution_count": 35,
   "metadata": {},
   "outputs": [
    {
     "name": "stderr",
     "output_type": "stream",
     "text": [
      "c:\\Users\\Om Ambaye\\AppData\\Local\\Programs\\Python\\Python311\\Lib\\site-packages\\sklearn\\linear_model\\_logistic.py:458: ConvergenceWarning: lbfgs failed to converge (status=1):\n",
      "STOP: TOTAL NO. of ITERATIONS REACHED LIMIT.\n",
      "\n",
      "Increase the number of iterations (max_iter) or scale the data as shown in:\n",
      "    https://scikit-learn.org/stable/modules/preprocessing.html\n",
      "Please also refer to the documentation for alternative solver options:\n",
      "    https://scikit-learn.org/stable/modules/linear_model.html#logistic-regression\n",
      "  n_iter_i = _check_optimize_result(\n"
     ]
    },
    {
     "data": {
      "text/plain": [
       "0.818"
      ]
     },
     "execution_count": 35,
     "metadata": {},
     "output_type": "execute_result"
    }
   ],
   "source": [
    "from sklearn.linear_model import LogisticRegression\n",
    "\n",
    "clf_reg_5 = LogisticRegression(random_state=42, max_iter = 600)\n",
    "clf_reg_5.fit(X_train_pca, y_train)\n",
    "clf_reg_5.score(X_test_pca, y_test)"
   ]
  },
  {
   "cell_type": "code",
   "execution_count": 36,
   "metadata": {},
   "outputs": [
    {
     "name": "stdout",
     "output_type": "stream",
     "text": [
      "Number of iterations for regression model to converge = 600\n"
     ]
    }
   ],
   "source": [
    "print('Number of iterations for regression model to converge =', clf_reg_5.n_iter_[0])"
   ]
  },
  {
   "attachments": {},
   "cell_type": "markdown",
   "metadata": {},
   "source": [
    "The Logistic Regression converges within 600 iterations to give an accuracy of 81.8% on test data."
   ]
  },
  {
   "attachments": {},
   "cell_type": "markdown",
   "metadata": {},
   "source": [
    "Note that the model takes relatively very less time to fit than earlier. This is because the number of attributes is now very few. Earlier there were 784 attributes, now there are just 25."
   ]
  },
  {
   "attachments": {},
   "cell_type": "markdown",
   "metadata": {},
   "source": [
    "### Clustering"
   ]
  },
  {
   "cell_type": "code",
   "execution_count": 37,
   "metadata": {},
   "outputs": [],
   "source": [
    "k = 450"
   ]
  },
  {
   "cell_type": "code",
   "execution_count": 38,
   "metadata": {},
   "outputs": [],
   "source": [
    "kmeans = KMeans(n_clusters=k, init='k-means++', n_init=1,\n",
    "                max_iter=100, random_state=42, )\n",
    "kmeans.fit(X_train_pca)\n",
    "X_digits_dist = kmeans.transform(X_train_pca)\n",
    "representative_digit_idx = np.argmin(X_digits_dist, axis = 0)\n",
    "X_representative_digits = X_train_pca[representative_digit_idx, :]"
   ]
  },
  {
   "cell_type": "code",
   "execution_count": 39,
   "metadata": {},
   "outputs": [
    {
     "name": "stdout",
     "output_type": "stream",
     "text": [
      "Inertia = 213791.76707673245\n",
      "Number of iterations = 58\n"
     ]
    }
   ],
   "source": [
    "print('Inertia =', kmeans.inertia_)\n",
    "print('Number of iterations =', kmeans.n_iter_)"
   ]
  },
  {
   "cell_type": "code",
   "execution_count": 40,
   "metadata": {},
   "outputs": [],
   "source": [
    "X_representative_digits_np = np.array(X_representative_digits)"
   ]
  },
  {
   "cell_type": "code",
   "execution_count": 41,
   "metadata": {},
   "outputs": [],
   "source": [
    "y_representative_digits = y_train[representative_digit_idx]"
   ]
  },
  {
   "attachments": {},
   "cell_type": "markdown",
   "metadata": {},
   "source": [
    "Accuracy on representative elements"
   ]
  },
  {
   "cell_type": "code",
   "execution_count": 42,
   "metadata": {},
   "outputs": [
    {
     "data": {
      "text/plain": [
       "0.7701111111111111"
      ]
     },
     "execution_count": 42,
     "metadata": {},
     "output_type": "execute_result"
    }
   ],
   "source": [
    "clf_reg_6= LogisticRegression(multi_class=\"ovr\", solver=\"lbfgs\", max_iter=300, random_state=42)\n",
    "clf_reg_6.fit(X_representative_digits, y_representative_digits)\n",
    "clf_reg_6.score(X_test_pca, y_test)"
   ]
  },
  {
   "attachments": {},
   "cell_type": "markdown",
   "metadata": {},
   "source": [
    "Accuracy for labells propagated to entire dataset"
   ]
  },
  {
   "cell_type": "code",
   "execution_count": 43,
   "metadata": {},
   "outputs": [],
   "source": [
    "y_train_propagated = np.empty(len(X_train), dtype=np.int32)\n",
    "for i in range(k):\n",
    "    y_train_propagated[kmeans.labels_==i] = y_representative_digits[i]"
   ]
  },
  {
   "cell_type": "code",
   "execution_count": 44,
   "metadata": {},
   "outputs": [
    {
     "data": {
      "text/plain": [
       "0.7744444444444445"
      ]
     },
     "execution_count": 44,
     "metadata": {},
     "output_type": "execute_result"
    }
   ],
   "source": [
    "clf_reg_7= LogisticRegression(multi_class=\"ovr\", solver=\"lbfgs\", max_iter=200, random_state=1)\n",
    "clf_reg_7.fit(X_train_pca, y_train_propagated)\n",
    "clf_reg_7.score(X_test_pca, y_test)"
   ]
  },
  {
   "cell_type": "code",
   "execution_count": 45,
   "metadata": {},
   "outputs": [
    {
     "name": "stdout",
     "output_type": "stream",
     "text": [
      "Number of iterations for regression model to converge = 54\n"
     ]
    }
   ],
   "source": [
    "print('Number of iterations for regression model to converge =', clf_reg_7.n_iter_[0])"
   ]
  },
  {
   "attachments": {},
   "cell_type": "markdown",
   "metadata": {},
   "source": [
    "Accuracy on labells propagated to 1% of elements closest to each cluster."
   ]
  },
  {
   "cell_type": "code",
   "execution_count": 46,
   "metadata": {},
   "outputs": [],
   "source": [
    "percentile_closest = 1\n",
    "\n",
    "X_cluster_dist = X_digits_dist[np.arange(len(X_train_pca)), kmeans.labels_]\n",
    "for i in range(k):\n",
    "    in_cluster = (kmeans.labels_ == i)\n",
    "    cluster_dist = X_cluster_dist[in_cluster]\n",
    "    cutoff_distance = np.percentile(cluster_dist, percentile_closest)\n",
    "    above_cutoff = (X_cluster_dist > cutoff_distance)\n",
    "    X_cluster_dist[in_cluster & above_cutoff] = -1\n",
    "\n",
    "partially_propagated = (X_cluster_dist != -1)\n",
    "X_train_partially_propagated = X_train_pca[partially_propagated]\n",
    "y_train_partially_propagated = y_train_propagated[partially_propagated]"
   ]
  },
  {
   "cell_type": "markdown",
   "metadata": {},
   "source": [
    "The number below gives the fraction of propagated data points that have the correct labels"
   ]
  },
  {
   "cell_type": "code",
   "execution_count": 47,
   "metadata": {},
   "outputs": [
    {
     "data": {
      "text/plain": [
       "0.9587301587301588"
      ]
     },
     "execution_count": 47,
     "metadata": {},
     "output_type": "execute_result"
    }
   ],
   "source": [
    "np.mean(y_train_partially_propagated == y_train[partially_propagated])"
   ]
  },
  {
   "cell_type": "code",
   "execution_count": 48,
   "metadata": {},
   "outputs": [
    {
     "data": {
      "text/plain": [
       "0.7674444444444445"
      ]
     },
     "execution_count": 48,
     "metadata": {},
     "output_type": "execute_result"
    }
   ],
   "source": [
    "clf_reg_8 = LogisticRegression(multi_class=\"ovr\", solver=\"lbfgs\", max_iter=2000, random_state=42)\n",
    "clf_reg_8.fit(X_train_partially_propagated, y_train_partially_propagated)\n",
    "clf_reg_8.score(X_test_pca, y_test)"
   ]
  },
  {
   "attachments": {},
   "cell_type": "markdown",
   "metadata": {},
   "source": [
    "Once again we define a function (k_cluster) to find the accuracy on a given number of clusters and percentage of propagation"
   ]
  },
  {
   "cell_type": "code",
   "execution_count": 49,
   "metadata": {},
   "outputs": [],
   "source": [
    "def k_cluster_2(k, p):\n",
    "    kmeans = KMeans(n_clusters=k, init='k-means++', n_init=1,\n",
    "                max_iter=400, random_state=42, )\n",
    "    kmeans.fit(X_train_pca)\n",
    "    X_digits_dist = kmeans.transform(X_train_pca)\n",
    "    representative_digit_idx = np.argmin(X_digits_dist, axis = 0)\n",
    "    X_representative_digits = X_train_pca[representative_digit_idx, :]\n",
    "    X_representative_digits_np = np.array(X_representative_digits)\n",
    "    \n",
    "    y_representative_digits = y_train[representative_digit_idx]\n",
    "    \n",
    "    log_reg = LogisticRegression(multi_class=\"ovr\", solver=\"lbfgs\", max_iter=2000, random_state=42)\n",
    "    log_reg.fit(X_representative_digits, y_representative_digits)\n",
    "    print('Accuracy with', k, 'clusters =', log_reg.score(X_test_pca, y_test))\n",
    "    \n",
    "    y_train_propagated = np.empty(len(X_train_pca), dtype=np.int32)\n",
    "    for i in range(k):\n",
    "        y_train_propagated[kmeans.labels_==i] = y_representative_digits[i]\n",
    "    \n",
    "    log_reg = LogisticRegression(multi_class=\"ovr\", solver=\"lbfgs\", max_iter=2000, random_state=1)\n",
    "    log_reg.fit(X_train_pca, y_train_propagated)\n",
    "    print('Accuracy with labells propagated =', log_reg.score(X_test_pca, y_test))\n",
    "    \n",
    "    percentile_closest = p\n",
    "    \n",
    "    X_cluster_dist = X_digits_dist[np.arange(len(X_train_pca)), kmeans.labels_]\n",
    "    for i in range(k):\n",
    "        in_cluster = (kmeans.labels_ == i)\n",
    "        cluster_dist = X_cluster_dist[in_cluster]\n",
    "        cutoff_distance = np.percentile(cluster_dist, percentile_closest)\n",
    "        above_cutoff = (X_cluster_dist > cutoff_distance)\n",
    "        X_cluster_dist[in_cluster & above_cutoff] = -1\n",
    "    \n",
    "    partially_propagated = (X_cluster_dist != -1)\n",
    "    X_train_partially_propagated = X_train_pca[partially_propagated]\n",
    "    y_train_partially_propagated = y_train_propagated[partially_propagated]\n",
    "    \n",
    "    print('Accuracy of percentage labels with actual labels =', np.mean(y_train_partially_propagated == y_train[partially_propagated]))\n",
    "    \n",
    "    log_reg = LogisticRegression(multi_class=\"ovr\", solver=\"lbfgs\", max_iter=2000, random_state=42)\n",
    "    log_reg.fit(X_train_partially_propagated, y_train_partially_propagated)\n",
    "    print('Accuracy with labells propagated to nearest', str(p)+'% elements =', log_reg.score(X_test_pca, y_test))"
   ]
  },
  {
   "cell_type": "code",
   "execution_count": 50,
   "metadata": {},
   "outputs": [
    {
     "name": "stdout",
     "output_type": "stream",
     "text": [
      "Accuracy with 500 clusters = 0.7723333333333333\n",
      "Accuracy with labells propagated = 0.7722777777777777\n",
      "Accuracy of percentage labels with actual labels = 0.8321515750319656\n",
      "Accuracy with labells propagated to nearest 20% elements = 0.7753333333333333\n"
     ]
    }
   ],
   "source": [
    "k_cluster_2(500, 20)"
   ]
  },
  {
   "attachments": {},
   "cell_type": "markdown",
   "metadata": {},
   "source": [
    "We again make a plot of accuracy Vs number of clusters with respect to this model"
   ]
  },
  {
   "cell_type": "code",
   "execution_count": 51,
   "metadata": {},
   "outputs": [],
   "source": [
    "scores = []"
   ]
  },
  {
   "cell_type": "code",
   "execution_count": 52,
   "metadata": {},
   "outputs": [],
   "source": [
    "def f(x, y, n):\n",
    "    for k in range(x, y+1, n):\n",
    "        kmeans = KMeans(n_clusters=k, init='k-means++', n_init=1,\n",
    "                max_iter=400, random_state=42, )\n",
    "        kmeans.fit(X_train_pca)\n",
    "        X_digits_dist = kmeans.transform(X_train_pca)\n",
    "        representative_digit_idx = np.argmin(X_digits_dist, axis = 0)\n",
    "        X_representative_digits = X_train_pca[representative_digit_idx, :]\n",
    "        X_representative_digits_np = np.array(X_representative_digits)\n",
    "        \n",
    "        y_representative_digits = y_train[representative_digit_idx]\n",
    "        \n",
    "        log_reg = LogisticRegression(multi_class=\"ovr\", solver=\"lbfgs\", max_iter=2000, random_state=42)\n",
    "        log_reg.fit(X_representative_digits, y_representative_digits)\n",
    "        scores.append(log_reg.score(X_test_pca, y_test))"
   ]
  },
  {
   "cell_type": "code",
   "execution_count": 53,
   "metadata": {},
   "outputs": [],
   "source": [
    "f(50, 1000, 50)"
   ]
  },
  {
   "cell_type": "code",
   "execution_count": 54,
   "metadata": {},
   "outputs": [
    {
     "name": "stdout",
     "output_type": "stream",
     "text": [
      "50 -> 0.6719444444444445\n",
      "100 -> 0.7343888888888889\n",
      "150 -> 0.748\n",
      "200 -> 0.7516666666666667\n",
      "250 -> 0.7546666666666667\n",
      "300 -> 0.7657777777777778\n",
      "350 -> 0.7698888888888888\n",
      "400 -> 0.7769444444444444\n",
      "450 -> 0.7701111111111111\n",
      "500 -> 0.7723333333333333\n",
      "550 -> 0.7681111111111111\n",
      "600 -> 0.7818333333333334\n",
      "650 -> 0.7774444444444445\n",
      "700 -> 0.7833333333333333\n",
      "750 -> 0.7812777777777777\n",
      "800 -> 0.7813888888888889\n",
      "850 -> 0.7791666666666667\n",
      "900 -> 0.7865555555555556\n",
      "950 -> 0.7878333333333334\n",
      "1000 -> 0.791\n"
     ]
    }
   ],
   "source": [
    "for i in range(len(scores)):\n",
    "    print((i+1)*50 , \"->\", scores[i])"
   ]
  },
  {
   "cell_type": "code",
   "execution_count": 55,
   "metadata": {},
   "outputs": [
    {
     "data": {
      "text/plain": [
       "array([1000,  950,  900,  700,  600,  800,  750,  850,  650,  400,  500,\n",
       "        450,  350,  550,  300,  250,  200,  150,  100,   50], dtype=int64)"
      ]
     },
     "execution_count": 55,
     "metadata": {},
     "output_type": "execute_result"
    }
   ],
   "source": [
    "# To give a list to number of clusters sorted in descending order of accuracy\n",
    "\n",
    "50 + (np.argsort(scores)[::-1])*50"
   ]
  },
  {
   "cell_type": "code",
   "execution_count": 56,
   "metadata": {},
   "outputs": [
    {
     "data": {
      "image/png": "[encoded data removed]",
      "text/plain": [
       "<Figure size 800x350 with 1 Axes>"
      ]
     },
     "metadata": {},
     "output_type": "display_data"
    }
   ],
   "source": [
    "# The plot\n",
    "\n",
    "plt.figure(figsize=(8, 3.5))\n",
    "plt.plot([n for n in range(50, 1001, 50)], scores, 'bo-')\n",
    "plt.xlabel(\"$k$\", fontsize=14)\n",
    "plt.ylabel(\"Accuracy\", fontsize=14)\n",
    "\n",
    "plt.axis([0, 1050, np.min(scores) - 0.01, np.max(scores) + 0.01])\n",
    "plt.plot(400, scores[7], 'r*')\n",
    "\n",
    "plt.show()"
   ]
  },
  {
   "attachments": {},
   "cell_type": "markdown",
   "metadata": {},
   "source": [
    "Here also, the graph is not that promising. We can choose k = 400 as number of clusters by the same reason as earlier."
   ]
  },
  {
   "attachments": {},
   "cell_type": "markdown",
   "metadata": {},
   "source": [
    "## SVM"
   ]
  },
  {
   "attachments": {},
   "cell_type": "markdown",
   "metadata": {},
   "source": [
    "We now do everything exactly as above, just with a Support Vector Classifier instead of a Logistic Regressor"
   ]
  },
  {
   "cell_type": "code",
   "execution_count": 57,
   "metadata": {},
   "outputs": [
    {
     "data": {
      "text/plain": [
       "0.8673333333333333"
      ]
     },
     "execution_count": 57,
     "metadata": {},
     "output_type": "execute_result"
    }
   ],
   "source": [
    "from sklearn.svm import SVC\n",
    "\n",
    "svc = SVC(random_state=42)\n",
    "svc.fit(X_train_pca, y_train)\n",
    "svc.score(X_test_pca, y_test)"
   ]
  },
  {
   "attachments": {},
   "cell_type": "markdown",
   "metadata": {},
   "source": [
    "SVM after clustering"
   ]
  },
  {
   "cell_type": "code",
   "execution_count": 58,
   "metadata": {},
   "outputs": [
    {
     "data": {
      "text/plain": [
       "0.7733888888888889"
      ]
     },
     "execution_count": 58,
     "metadata": {},
     "output_type": "execute_result"
    }
   ],
   "source": [
    "svc = SVC(random_state=42)\n",
    "svc.fit(X_representative_digits, y_representative_digits)\n",
    "svc.score(X_test_pca, y_test)"
   ]
  },
  {
   "attachments": {},
   "cell_type": "markdown",
   "metadata": {},
   "source": [
    "SVM after propagation"
   ]
  },
  {
   "cell_type": "code",
   "execution_count": 59,
   "metadata": {},
   "outputs": [
    {
     "data": {
      "text/plain": [
       "0.7896111111111112"
      ]
     },
     "execution_count": 59,
     "metadata": {},
     "output_type": "execute_result"
    }
   ],
   "source": [
    "svc = SVC(random_state=42)\n",
    "svc.fit(X_train_pca, y_train_propagated)\n",
    "svc.score(X_test_pca, y_test)"
   ]
  },
  {
   "attachments": {},
   "cell_type": "markdown",
   "metadata": {},
   "source": [
    "SVM after 1% propogation"
   ]
  },
  {
   "cell_type": "code",
   "execution_count": 60,
   "metadata": {},
   "outputs": [
    {
     "data": {
      "text/plain": [
       "0.779"
      ]
     },
     "execution_count": 60,
     "metadata": {},
     "output_type": "execute_result"
    }
   ],
   "source": [
    "svc = SVC(random_state=42)\n",
    "svc.fit(X_train_partially_propagated, y_train_partially_propagated)\n",
    "svc.score(X_test_pca, y_test)"
   ]
  },
  {
   "cell_type": "code",
   "execution_count": 61,
   "metadata": {},
   "outputs": [],
   "source": [
    "def k_cluster_3(k, p):\n",
    "    kmeans = KMeans(n_clusters=k, init='k-means++', n_init=1,\n",
    "                max_iter=400, random_state=42, )\n",
    "    kmeans.fit(X_train_pca)\n",
    "    X_digits_dist = kmeans.transform(X_train_pca)\n",
    "    representative_digit_idx = np.argmin(X_digits_dist, axis = 0)\n",
    "    X_representative_digits = X_train_pca[representative_digit_idx, :]\n",
    "    X_representative_digits_np = np.array(X_representative_digits)\n",
    "    \n",
    "    y_representative_digits = y_train[representative_digit_idx]\n",
    "    \n",
    "    svc = SVC(random_state=42)\n",
    "    svc.fit(X_representative_digits, y_representative_digits)\n",
    "    print('Accuracy with', k, 'clusters =', svc.score(X_test_pca, y_test))\n",
    "    \n",
    "    y_train_propagated = np.empty(len(X_train_pca), dtype=np.int32)\n",
    "    for i in range(k):\n",
    "        y_train_propagated[kmeans.labels_==i] = y_representative_digits[i]\n",
    "    \n",
    "    svc = SVC(random_state=1)\n",
    "    svc.fit(X_train_pca, y_train_propagated)\n",
    "    print('Accuracy with labells propagated =', svc.score(X_test_pca, y_test))\n",
    "    \n",
    "    percentile_closest = p\n",
    "    \n",
    "    X_cluster_dist = X_digits_dist[np.arange(len(X_train_pca)), kmeans.labels_]\n",
    "    for i in range(k):\n",
    "        in_cluster = (kmeans.labels_ == i)\n",
    "        cluster_dist = X_cluster_dist[in_cluster]\n",
    "        cutoff_distance = np.percentile(cluster_dist, percentile_closest)\n",
    "        above_cutoff = (X_cluster_dist > cutoff_distance)\n",
    "        X_cluster_dist[in_cluster & above_cutoff] = -1\n",
    "    \n",
    "    partially_propagated = (X_cluster_dist != -1)\n",
    "    X_train_partially_propagated = X_train_pca[partially_propagated]\n",
    "    y_train_partially_propagated = y_train_propagated[partially_propagated]\n",
    "    \n",
    "    print('Accuracy of percentage labels with actual labels =', np.mean(y_train_partially_propagated == y_train[partially_propagated]))\n",
    "    \n",
    "    svc = SVC(random_state=42)\n",
    "    svc.fit(X_train_partially_propagated, y_train_partially_propagated)\n",
    "    print('Accuracy with labells propagated to nearest', str(p)+'% elements =', svc.score(X_test_pca, y_test))"
   ]
  },
  {
   "cell_type": "code",
   "execution_count": 62,
   "metadata": {},
   "outputs": [
    {
     "name": "stdout",
     "output_type": "stream",
     "text": [
      "Accuracy with 500 clusters = 0.7782222222222223\n",
      "Accuracy with labells propagated = 0.7913888888888889\n",
      "Accuracy of percentage labels with actual labels = 0.8478555304740406\n",
      "Accuracy with labells propagated to nearest 10% elements = 0.7976666666666666\n"
     ]
    }
   ],
   "source": [
    "k_cluster_3(500, 10)"
   ]
  },
  {
   "cell_type": "code",
   "execution_count": 63,
   "metadata": {},
   "outputs": [],
   "source": [
    "def f(x, y, n):\n",
    "    for k in range(x, y+1, n):\n",
    "        kmeans = KMeans(n_clusters=k, init='k-means++', n_init=1,\n",
    "                max_iter=400, random_state=42, )\n",
    "        kmeans.fit(X_train_pca)\n",
    "        X_digits_dist = kmeans.transform(X_train_pca)\n",
    "        representative_digit_idx = np.argmin(X_digits_dist, axis = 0)\n",
    "        X_representative_digits = X_train_pca[representative_digit_idx, :]\n",
    "        X_representative_digits_np = np.array(X_representative_digits)\n",
    "        \n",
    "        y_representative_digits = y_train[representative_digit_idx]\n",
    "        \n",
    "        svc = SVC(random_state=42)\n",
    "        svc.fit(X_representative_digits, y_representative_digits)\n",
    "        scores.append(svc.score(X_test_pca, y_test))"
   ]
  },
  {
   "cell_type": "code",
   "execution_count": 64,
   "metadata": {},
   "outputs": [],
   "source": [
    "scores = []"
   ]
  },
  {
   "cell_type": "code",
   "execution_count": 65,
   "metadata": {},
   "outputs": [],
   "source": [
    "f(50, 1000, 50)"
   ]
  },
  {
   "cell_type": "code",
   "execution_count": 66,
   "metadata": {},
   "outputs": [
    {
     "name": "stdout",
     "output_type": "stream",
     "text": [
      "50 -> 0.6102777777777778\n",
      "100 -> 0.6692777777777777\n",
      "150 -> 0.7135555555555556\n",
      "200 -> 0.7269444444444444\n",
      "250 -> 0.7447777777777778\n",
      "300 -> 0.7671111111111111\n",
      "350 -> 0.7686111111111111\n",
      "400 -> 0.7672222222222222\n",
      "450 -> 0.7733888888888889\n",
      "500 -> 0.7782222222222223\n",
      "550 -> 0.7786666666666666\n",
      "600 -> 0.783\n",
      "650 -> 0.7852222222222223\n",
      "700 -> 0.7865555555555556\n",
      "750 -> 0.7891666666666667\n",
      "800 -> 0.7853333333333333\n",
      "850 -> 0.7883888888888889\n",
      "900 -> 0.7904444444444444\n",
      "950 -> 0.79\n",
      "1000 -> 0.7946111111111112\n"
     ]
    }
   ],
   "source": [
    "for i in range(len(scores)):\n",
    "    print((i+1)*50 , \"->\", scores[i])"
   ]
  },
  {
   "cell_type": "code",
   "execution_count": 67,
   "metadata": {},
   "outputs": [
    {
     "data": {
      "text/plain": [
       "array([1000,  900,  950,  750,  850,  700,  800,  650,  600,  550,  500,\n",
       "        450,  350,  400,  300,  250,  200,  150,  100,   50], dtype=int64)"
      ]
     },
     "execution_count": 67,
     "metadata": {},
     "output_type": "execute_result"
    }
   ],
   "source": [
    "50 + (np.argsort(scores)[::-1])*50"
   ]
  },
  {
   "cell_type": "code",
   "execution_count": 68,
   "metadata": {},
   "outputs": [
    {
     "data": {
      "image/png": "[encoded data removed]",
      "text/plain": [
       "<Figure size 800x350 with 1 Axes>"
      ]
     },
     "metadata": {},
     "output_type": "display_data"
    }
   ],
   "source": [
    "plt.figure(figsize=(8, 3.5))\n",
    "plt.plot([n for n in range(50, 1001, 50)], scores, 'bo-')\n",
    "plt.xlabel(\"$k$\", fontsize=14)\n",
    "plt.ylabel(\"Accuracy\", fontsize=14)\n",
    "\n",
    "plt.axis([0, 1050, np.min(scores) - 0.01, np.max(scores) + 0.01])\n",
    "plt.plot(300, scores[5], 'r*')\n",
    "\n",
    "plt.show()"
   ]
  },
  {
   "attachments": {},
   "cell_type": "markdown",
   "metadata": {},
   "source": [
    "From the graph above, we can choose k = 300. After 300 clusters, the increase in accurcy is not that very much. Hence we get an accuracy of 76.72%"
   ]
  },
  {
   "attachments": {},
   "cell_type": "markdown",
   "metadata": {},
   "source": [
    "### Now, using this model on our original testing dataset"
   ]
  },
  {
   "attachments": {},
   "cell_type": "markdown",
   "metadata": {},
   "source": [
    "Clustering and Logistic Regression:"
   ]
  },
  {
   "cell_type": "code",
   "execution_count": 69,
   "metadata": {},
   "outputs": [],
   "source": [
    "def k_cluster_1(k, p):\n",
    "    kmeans = KMeans(n_clusters=k, init='k-means++', n_init=1,\n",
    "                max_iter=400, random_state=42, )\n",
    "    kmeans.fit(X_train_1)\n",
    "    X_digits_dist = kmeans.transform(X_train_1)\n",
    "    representative_digit_idx = np.argmin(X_digits_dist, axis = 0)\n",
    "    X_representative_digits = X_train_1[representative_digit_idx, :]\n",
    "    X_representative_digits_np = np.array(X_representative_digits)\n",
    "    \n",
    "    y_representative_digits = y_train_1[representative_digit_idx]\n",
    "    \n",
    "    log_reg = LogisticRegression(multi_class=\"ovr\", solver=\"lbfgs\", max_iter=500, random_state=42)\n",
    "    log_reg.fit(X_representative_digits, y_representative_digits)\n",
    "    print('Accuracy with', k, 'clusters =', log_reg.score(X_test_1, y_test_1))\n",
    "    \n",
    "    y_train_propagated = np.empty(len(X_train_1), dtype=np.int32)\n",
    "    for i in range(k):\n",
    "        y_train_propagated[kmeans.labels_==i] = y_representative_digits[i]\n",
    "    \n",
    "    log_reg = LogisticRegression(multi_class=\"ovr\", solver=\"lbfgs\", max_iter=500, random_state=1)\n",
    "    log_reg.fit(X_train_1, y_train_propagated)\n",
    "    print('Accuracy with labells propagated =', log_reg.score(X_test_1, y_test_1))\n",
    "    \n",
    "    percentile_closest = p\n",
    "    \n",
    "    X_cluster_dist = X_digits_dist[np.arange(len(X_train_1)), kmeans.labels_]\n",
    "    for i in range(k):\n",
    "        in_cluster = (kmeans.labels_ == i)\n",
    "        cluster_dist = X_cluster_dist[in_cluster]\n",
    "        cutoff_distance = np.percentile(cluster_dist, percentile_closest)\n",
    "        above_cutoff = (X_cluster_dist > cutoff_distance)\n",
    "        X_cluster_dist[in_cluster & above_cutoff] = -1\n",
    "    \n",
    "    partially_propagated = (X_cluster_dist != -1)\n",
    "    X_train_partially_propagated = X_train_1[partially_propagated]\n",
    "    y_train_partially_propagated = y_train_propagated[partially_propagated]\n",
    "    \n",
    "    log_reg = LogisticRegression(multi_class=\"ovr\", solver=\"lbfgs\", max_iter=500, random_state=42)\n",
    "    log_reg.fit(X_train_partially_propagated, y_train_partially_propagated)\n",
    "    print('Accuracy with labells propagated to nearest', str(p)+'% elements =', log_reg.score(X_test_1, y_test_1))"
   ]
  },
  {
   "cell_type": "code",
   "execution_count": 70,
   "metadata": {},
   "outputs": [
    {
     "name": "stdout",
     "output_type": "stream",
     "text": [
      "Accuracy with 500 clusters = 0.7872\n"
     ]
    },
    {
     "name": "stderr",
     "output_type": "stream",
     "text": [
      "c:\\Users\\Om Ambaye\\AppData\\Local\\Programs\\Python\\Python311\\Lib\\site-packages\\sklearn\\linear_model\\_logistic.py:458: ConvergenceWarning: lbfgs failed to converge (status=1):\n",
      "STOP: TOTAL NO. of ITERATIONS REACHED LIMIT.\n",
      "\n",
      "Increase the number of iterations (max_iter) or scale the data as shown in:\n",
      "    https://scikit-learn.org/stable/modules/preprocessing.html\n",
      "Please also refer to the documentation for alternative solver options:\n",
      "    https://scikit-learn.org/stable/modules/linear_model.html#logistic-regression\n",
      "  n_iter_i = _check_optimize_result(\n"
     ]
    },
    {
     "name": "stdout",
     "output_type": "stream",
     "text": [
      "Accuracy with labells propagated = 0.7764\n",
      "Accuracy with labells propagated to nearest 10% elements = 0.773\n"
     ]
    }
   ],
   "source": [
    "k_cluster_1(500, 10)"
   ]
  },
  {
   "attachments": {},
   "cell_type": "markdown",
   "metadata": {},
   "source": [
    "PCA, Clustering then Logistic Regression:"
   ]
  },
  {
   "cell_type": "code",
   "execution_count": 71,
   "metadata": {},
   "outputs": [],
   "source": [
    "pca = PCA(n_components=t, random_state=42)\n",
    "pca.fit(X_train_1)\n",
    "X_train_1_pca = pca.transform(X_train_1)\n",
    "X_test_1_pca = pca.transform(X_test_1)"
   ]
  },
  {
   "cell_type": "code",
   "execution_count": 72,
   "metadata": {},
   "outputs": [],
   "source": [
    "def k_cluster_2(k, p):\n",
    "    kmeans = KMeans(n_clusters=k, init='k-means++', n_init=1,\n",
    "                max_iter=400, random_state=42, )\n",
    "    kmeans.fit(X_train_1_pca)\n",
    "    X_digits_dist = kmeans.transform(X_train_1_pca)\n",
    "    representative_digit_idx = np.argmin(X_digits_dist, axis = 0)\n",
    "    X_representative_digits = X_train_1_pca[representative_digit_idx, :]\n",
    "    X_representative_digits_np = np.array(X_representative_digits)\n",
    "    \n",
    "    y_representative_digits = y_train_1[representative_digit_idx]\n",
    "    \n",
    "    log_reg = LogisticRegression(multi_class=\"ovr\", solver=\"lbfgs\", max_iter=2000, random_state=42)\n",
    "    log_reg.fit(X_representative_digits, y_representative_digits)\n",
    "    print('Accuracy with', k, 'clusters =', log_reg.score(X_test_1_pca, y_test_1))\n",
    "    \n",
    "    y_train_propagated = np.empty(len(X_train_1_pca), dtype=np.int32)\n",
    "    for i in range(k):\n",
    "        y_train_propagated[kmeans.labels_==i] = y_representative_digits[i]\n",
    "    \n",
    "    log_reg = LogisticRegression(multi_class=\"ovr\", solver=\"lbfgs\", max_iter=2000, random_state=1)\n",
    "    log_reg.fit(X_train_1_pca, y_train_propagated)\n",
    "    print('Accuracy with labells propagated =', log_reg.score(X_test_1_pca, y_test_1))\n",
    "    \n",
    "    percentile_closest = p\n",
    "    \n",
    "    X_cluster_dist = X_digits_dist[np.arange(len(X_train_1_pca)), kmeans.labels_]\n",
    "    for i in range(k):\n",
    "        in_cluster = (kmeans.labels_ == i)\n",
    "        cluster_dist = X_cluster_dist[in_cluster]\n",
    "        cutoff_distance = np.percentile(cluster_dist, percentile_closest)\n",
    "        above_cutoff = (X_cluster_dist > cutoff_distance)\n",
    "        X_cluster_dist[in_cluster & above_cutoff] = -1\n",
    "    \n",
    "    partially_propagated = (X_cluster_dist != -1)\n",
    "    X_train_partially_propagated = X_train_1_pca[partially_propagated]\n",
    "    y_train_partially_propagated = y_train_propagated[partially_propagated]\n",
    "    \n",
    "    log_reg = LogisticRegression(multi_class=\"ovr\", solver=\"lbfgs\", max_iter=2000, random_state=42)\n",
    "    log_reg.fit(X_train_partially_propagated, y_train_partially_propagated)\n",
    "    print('Accuracy with labells propagated to nearest', str(p)+'% elements =', log_reg.score(X_test_1_pca, y_test_1))"
   ]
  },
  {
   "cell_type": "code",
   "execution_count": 73,
   "metadata": {},
   "outputs": [
    {
     "name": "stdout",
     "output_type": "stream",
     "text": [
      "Accuracy with 400 clusters = 0.7565\n",
      "Accuracy with labells propagated = 0.7619\n",
      "Accuracy with labells propagated to nearest 10% elements = 0.7591\n"
     ]
    }
   ],
   "source": [
    "k_cluster_2(400, 10)"
   ]
  },
  {
   "attachments": {},
   "cell_type": "markdown",
   "metadata": {},
   "source": [
    "PCA, Clustering then SVM:"
   ]
  },
  {
   "cell_type": "code",
   "execution_count": 74,
   "metadata": {},
   "outputs": [],
   "source": [
    "def k_cluster_3(k, p):\n",
    "    kmeans = KMeans(n_clusters=k, init='k-means++', n_init=1,\n",
    "                max_iter=400, random_state=42, )\n",
    "    kmeans.fit(X_train_1_pca)\n",
    "    X_digits_dist = kmeans.transform(X_train_1_pca)\n",
    "    representative_digit_idx = np.argmin(X_digits_dist, axis = 0)\n",
    "    X_representative_digits = X_train_1_pca[representative_digit_idx, :]\n",
    "    X_representative_digits_np = np.array(X_representative_digits)\n",
    "    \n",
    "    y_representative_digits = y_train_1[representative_digit_idx]\n",
    "    \n",
    "    svc = SVC(random_state=42)\n",
    "    svc.fit(X_representative_digits, y_representative_digits)\n",
    "    print('Accuracy with', k, 'clusters =', svc.score(X_test_1_pca, y_test_1))\n",
    "    \n",
    "    y_train_propagated = np.empty(len(X_train_1_pca), dtype=np.int32)\n",
    "    for i in range(k):\n",
    "        y_train_propagated[kmeans.labels_==i] = y_representative_digits[i]\n",
    "    \n",
    "    svc = SVC(random_state=1)\n",
    "    svc.fit(X_train_1_pca, y_train_propagated)\n",
    "    print('Accuracy with labells propagated =', svc.score(X_test_1_pca, y_test_1))\n",
    "    \n",
    "    percentile_closest = p\n",
    "    \n",
    "    X_cluster_dist = X_digits_dist[np.arange(len(X_train_1_pca)), kmeans.labels_]\n",
    "    for i in range(k):\n",
    "        in_cluster = (kmeans.labels_ == i)\n",
    "        cluster_dist = X_cluster_dist[in_cluster]\n",
    "        cutoff_distance = np.percentile(cluster_dist, percentile_closest)\n",
    "        above_cutoff = (X_cluster_dist > cutoff_distance)\n",
    "        X_cluster_dist[in_cluster & above_cutoff] = -1\n",
    "    \n",
    "    partially_propagated = (X_cluster_dist != -1)\n",
    "    X_train_partially_propagated = X_train_1_pca[partially_propagated]\n",
    "    y_train_partially_propagated = y_train_propagated[partially_propagated]\n",
    "    \n",
    "    svc = SVC(random_state=42)\n",
    "    svc.fit(X_train_partially_propagated, y_train_partially_propagated)\n",
    "    print('Accuracy with labells propagated to nearest', str(p)+'% elements =', svc.score(X_test_1_pca, y_test_1))"
   ]
  },
  {
   "cell_type": "code",
   "execution_count": 75,
   "metadata": {},
   "outputs": [
    {
     "name": "stdout",
     "output_type": "stream",
     "text": [
      "Accuracy with 300 clusters = 0.7564\n",
      "Accuracy with labells propagated = 0.7612\n",
      "Accuracy with labells propagated to nearest 10% elements = 0.7748\n"
     ]
    }
   ],
   "source": [
    "k_cluster_3(300, 10)"
   ]
  },
  {
   "attachments": {},
   "cell_type": "markdown",
   "metadata": {},
   "source": [
    "In summary, we are getting a maximum accuracy by Dimensionality Reduction into 25 attributes using PCA, then clustering into 300 clusters, and the manually labelling the elements nearest to centroids of each cluster and training an SVM model using them.$\\\\$\n",
    "On the given training and testing sample, we are getting an accuracy of around 75.64%.$\\\\$\n",
    "On propagation to nearest 20%, we get an even greater accuracy of 77.5%."
   ]
  }
 ],
 "metadata": {
  "kernelspec": {
   "display_name": "Python 3",
   "language": "python",
   "name": "python3"
  },
  "language_info": {
   "codemirror_mode": {
    "name": "ipython",
    "version": 3
   },
   "file_extension": ".py",
   "mimetype": "text/x-python",
   "name": "python",
   "nbconvert_exporter": "python",
   "pygments_lexer": "ipython3",
   "version": "3.11.1"
  },
  "orig_nbformat": 4
 },
 "nbformat": 4,
 "nbformat_minor": 2
}
